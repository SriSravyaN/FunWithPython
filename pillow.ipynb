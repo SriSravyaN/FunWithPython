{
  "nbformat": 4,
  "nbformat_minor": 0,
  "metadata": {
    "colab": {
      "name": "pillow.ipynb",
      "provenance": [],
      "authorship_tag": "ABX9TyO8F8wPwacFTntdvXr7p/Yn",
      "include_colab_link": true
    },
    "kernelspec": {
      "name": "python3",
      "display_name": "Python 3"
    },
    "accelerator": "GPU"
  },
  "cells": [
    {
      "cell_type": "markdown",
      "metadata": {
        "id": "view-in-github",
        "colab_type": "text"
      },
      "source": [
        "<a href=\"https://colab.research.google.com/github/SriSravyaN/FunWithPython/blob/master/pillow.ipynb\" target=\"_parent\"><img src=\"https://colab.research.google.com/assets/colab-badge.svg\" alt=\"Open In Colab\"/></a>"
      ]
    },
    {
      "cell_type": "code",
      "metadata": {
        "id": "p5pk25jrRRPy",
        "colab_type": "code",
        "colab": {}
      },
      "source": [
        ""
      ],
      "execution_count": 0,
      "outputs": []
    },
    {
      "cell_type": "code",
      "metadata": {
        "id": "Zpy3iF4WSA4c",
        "colab_type": "code",
        "colab": {
          "base_uri": "https://localhost:8080/",
          "height": 55
        },
        "outputId": "3d48d666-670e-4d08-9450-bf9018aee714"
      },
      "source": [
        "!pip install Pillow"
      ],
      "execution_count": 1,
      "outputs": [
        {
          "output_type": "stream",
          "text": [
            "Requirement already satisfied: Pillow in /usr/local/lib/python3.6/dist-packages (7.0.0)\n"
          ],
          "name": "stdout"
        }
      ]
    },
    {
      "cell_type": "code",
      "metadata": {
        "id": "3eli7o_kSIlt",
        "colab_type": "code",
        "colab": {}
      },
      "source": [
        "from PIL import Image\n",
        "image = Image.open('chay.jpg')"
      ],
      "execution_count": 0,
      "outputs": []
    },
    {
      "cell_type": "code",
      "metadata": {
        "id": "NFh9o1gESOhK",
        "colab_type": "code",
        "colab": {}
      },
      "source": [
        "image.show()"
      ],
      "execution_count": 0,
      "outputs": []
    },
    {
      "cell_type": "code",
      "metadata": {
        "id": "gJAeNIrkSQ6X",
        "colab_type": "code",
        "colab": {
          "base_uri": "https://localhost:8080/",
          "height": 52
        },
        "outputId": "4f460c78-8647-482f-fb53-fee4b06b9788"
      },
      "source": [
        "image = Image.open('chay.jpg')\n",
        "new_image = image.resize((226, 226))\n",
        "new_image.save('1.jpg')\n",
        "print(image.size) # Output: (1200, 776)\n",
        "print(new_image.size) # Output: (400, 400)"
      ],
      "execution_count": 4,
      "outputs": [
        {
          "output_type": "stream",
          "text": [
            "(564, 761)\n",
            "(226, 226)\n"
          ],
          "name": "stdout"
        }
      ]
    },
    {
      "cell_type": "code",
      "metadata": {
        "id": "si2Z1BZBSmbf",
        "colab_type": "code",
        "colab": {}
      },
      "source": [
        "image = Image.open('1.jpg')\n",
        "image_rot_90 = image.rotate(90)   #90 rotated\n",
        "image_rot_90.save('2.jpg')\n",
        "image_rot_180 = image.rotate(180)   #180 rotated \n",
        "image_rot_180.save('3.jpg')"
      ],
      "execution_count": 0,
      "outputs": []
    },
    {
      "cell_type": "code",
      "metadata": {
        "id": "pF4fJY71S7IO",
        "colab_type": "code",
        "colab": {}
      },
      "source": [
        "image.rotate(18).save('4.jpg')"
      ],
      "execution_count": 0,
      "outputs": []
    },
    {
      "cell_type": "code",
      "metadata": {
        "id": "ajobIt8RTIoD",
        "colab_type": "code",
        "colab": {}
      },
      "source": [
        "image.rotate(18, expand=True).save('5.jpg')"
      ],
      "execution_count": 0,
      "outputs": []
    },
    {
      "cell_type": "code",
      "metadata": {
        "id": "neI-O_HYTPnM",
        "colab_type": "code",
        "colab": {}
      },
      "source": [
        "image = Image.open('1.jpg')\n",
        "image_flip = image.transpose(Image.FLIP_LEFT_RIGHT)\n",
        "image_flip.save('6.jpg')"
      ],
      "execution_count": 0,
      "outputs": []
    },
    {
      "cell_type": "code",
      "metadata": {
        "id": "CRXMcAddTaxP",
        "colab_type": "code",
        "colab": {}
      },
      "source": [
        "image = Image.open('2.jpg')\n",
        "image_flip = image.transpose(Image.FLIP_LEFT_RIGHT)\n",
        "image_flip.save('8.jpg')"
      ],
      "execution_count": 0,
      "outputs": []
    },
    {
      "cell_type": "code",
      "metadata": {
        "id": "8qGOw0OTTnVI",
        "colab_type": "code",
        "colab": {}
      },
      "source": [
        "image = Image.open('3.jpg')\n",
        "image_flip = image.transpose(Image.FLIP_LEFT_RIGHT)\n",
        "image_flip.save('9.jpg')"
      ],
      "execution_count": 0,
      "outputs": []
    },
    {
      "cell_type": "markdown",
      "metadata": {
        "id": "y97al71LTxGP",
        "colab_type": "text"
      },
      "source": [
        "https://dzone.com/articles/image-processing-in-python-with-pillow"
      ]
    }
  ]
}